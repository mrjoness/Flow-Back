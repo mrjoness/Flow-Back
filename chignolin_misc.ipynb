{
 "cells": [
  {
   "cell_type": "code",
   "execution_count": null,
   "id": "36055b84-5857-4c55-817c-249d21aedc97",
   "metadata": {},
   "outputs": [],
   "source": [
    "import torch\n",
    "import matplotlib.pyplot as plt\n",
    "import numpy as np\n",
    "import mdtraj as md\n",
    "from tqdm import tqdm"
   ]
  },
  {
   "cell_type": "code",
   "execution_count": null,
   "id": "d4a0a8de-9497-43eb-bc1d-77fa60a5ea7d",
   "metadata": {},
   "outputs": [],
   "source": [
    "aa_total_traj = None\n",
    "for i in tqdm(range(557)):\n",
    "    if i < 10:\n",
    "        stri = '00' + str(i)\n",
    "    elif i < 100:\n",
    "        stri = '0' + str(i)\n",
    "    else:\n",
    "        stri = str(i)\n",
    "    traj = md.load(f'/project/andrewferguson/DESRES/DESRES-Trajectory_NTL9-0-protein/NTL9-0-protein/NTL9-0-protein-{stri}.dcd', top='/project/andrewferguson/DESRES/DESRES-Trajectory_NTL9-0-protein/system_reorder.pdb', stride=100)\n",
    "    if not i:\n",
    "        aa_total_traj = traj\n",
    "    else:\n",
    "        aa_total_traj = aa_total_traj.join(traj)"
   ]
  },
  {
   "cell_type": "code",
   "execution_count": null,
   "id": "202c2dc2-f37c-4b2d-aacb-7bba715aeb1d",
   "metadata": {},
   "outputs": [],
   "source": [
    "aa_total_traj.n_frames"
   ]
  },
  {
   "cell_type": "code",
   "execution_count": null,
   "id": "35696604-9c8e-4511-ae33-111c86d4d019",
   "metadata": {},
   "outputs": [],
   "source": [
    "for j, frame in tqdm(enumerate(aa_total_traj[::27])):\n",
    "    frame.atom_slice(frame.top.select('not element H and not name OXT')).save_pdb(f'data/NTL9/frame_{j}.pdb')"
   ]
  },
  {
   "cell_type": "code",
   "execution_count": null,
   "id": "62178884-45b7-4299-bd12-39e450c856e2",
   "metadata": {},
   "outputs": [],
   "source": [
    "def leader_clustering(traj, K):\n",
    "    \"\"\"\n",
    "    Perform leader clustering on an MD trajectory with an RMSD cutoff K.\n",
    "    \n",
    "    Parameters:\n",
    "        traj (mdtraj.Trajectory): MD trajectory (only alpha carbons).\n",
    "        K (float): RMSD cutoff in Angstroms.\n",
    "\n",
    "    Returns:\n",
    "        cluster_labels (list): Cluster assignments for each frame.\n",
    "    \"\"\"\n",
    "    cluster_representatives = []  # Store one representative frame per cluster\n",
    "    cluster_labels = np.zeros(traj.n_frames, dtype=int)  # Cluster labels\n",
    "    cluster_count = 0  # Number of clusters\n",
    "    all_frames = []\n",
    "    for i in tqdm(range(traj.n_frames)):\n",
    "        frame = traj[i]\n",
    "        assigned = False\n",
    "\n",
    "        # Compare against existing cluster representatives\n",
    "        for j, rep in enumerate(cluster_representatives):\n",
    "            rmsd = md.rmsd(frame, rep)[0]  # Compute RMSD to representative frame\n",
    "            if rmsd < K:\n",
    "                cluster_labels[i] = j + 1  # Assign to cluster\n",
    "                assigned = True\n",
    "                break\n",
    "\n",
    "        # If no cluster found, create a new one\n",
    "        if not assigned:\n",
    "            cluster_count += 1\n",
    "            cluster_labels[i] = cluster_count\n",
    "            cluster_representatives.append(frame)\n",
    "            all_frames.append(i)\n",
    "\n",
    "    return cluster_labels, cluster_representatives, all_frames"
   ]
  },
  {
   "cell_type": "code",
   "execution_count": null,
   "id": "e06c1279-90cd-40ee-9c51-55ace8dde2d8",
   "metadata": {},
   "outputs": [],
   "source": [
    "K = 0.2 # Angstroms\n",
    "\n",
    "# Perform clustering\n",
    "clusters, reps, frames = leader_clustering(total_traj, K)\n",
    "\n",
    "# Print results\n",
    "print(f\"Total clusters: {len(set(clusters))}\")"
   ]
  },
  {
   "cell_type": "code",
   "execution_count": null,
   "id": "1fc1cc99-672a-4ba4-85e9-1f138aa0c87a",
   "metadata": {},
   "outputs": [],
   "source": [
    "all_reps = reps[0]\n",
    "for rep in reps:\n",
    "    rep.superpose(reps[0])\n",
    "    all_reps = all_reps.join(rep)"
   ]
  },
  {
   "cell_type": "code",
   "execution_count": null,
   "id": "a2c25cac-0caf-42eb-a33f-c47739d531d7",
   "metadata": {},
   "outputs": [],
   "source": [
    "for i in range(1, len(set(clusters)) + 1):\n",
    "    cur_cluster_idxs = np.where(clusters == i)[0]\n",
    "    # print(aa_total_traj[cur_cluster_idxs])\n",
    "    aa_total_traj[cur_cluster_idxs].save_xtc(f'data/clusters/{i-1}/chignolin_{i-1}.xtc')\n",
    "    "
   ]
  },
  {
   "cell_type": "code",
   "execution_count": null,
   "id": "991827cf-8002-4d51-93cf-930ad674d41e",
   "metadata": {},
   "outputs": [],
   "source": [
    "from tqdm import tqdm\n",
    "pdb_energies = []\n",
    "plt.hist(energies, 30)\n",
    "plt.xlabel('Energies (kJ/mol)')\n",
    "plt.ylabel('Frequency (kJ/mol)')\n",
    "for i in tqdm(range(1, 201)):\n",
    "    pdb_energies.append(compute_pdb_energy(f'outputs/clusters/0/Pro_pretrained_ckp-14_noise-0.003_chi-fix-0.2_masked/ca_rep_{i}.pdb'))\n",
    "\n",
    "plt.hist(pdb_energies, 30)\n"
   ]
  },
  {
   "cell_type": "code",
   "execution_count": null,
   "id": "7607db44-e57c-47e4-9dd2-9cc70ba2b5ff",
   "metadata": {},
   "outputs": [],
   "source": [
    "import mdtraj as md\n",
    "import nglview as nv"
   ]
  },
  {
   "cell_type": "code",
   "execution_count": null,
   "id": "2049385a-43ed-47ec-91a8-d1e55dbd04c4",
   "metadata": {},
   "outputs": [],
   "source": [
    "import subprocess\n",
    "import openbabel\n",
    "import warnings\n",
    "import pybel \n",
    "%load_ext autoreload \n",
    "%autoreload 2\n",
    "from rdkit import Chem\n",
    "from energy_utils import charmm_structure_to_energy\n",
    "import multiprocessing as mp\n",
    "topology_file = \"/project/andrewferguson/DESRES/DESRES-Trajectory_CLN025-0-protein/system_reorder.pdb\"\n",
    "warnings.filterwarnings('ignore')\n",
    "# for n in tqdm(range(444)):\n",
    "#     energies = []\n",
    "#     traj = md.load(f\"data/clusters/{n}/chignolin_{n}.xtc\", top=topology_file)\n",
    "#     traj = traj.atom_slice(traj.top.select('not element H and not name OXT'))\n",
    "#     for i in range(len(traj)):\n",
    "#         try:\n",
    "#             energy, _ = charmm_structure_to_energy(traj.top, traj[i].xyz)\n",
    "#             energies.append(energy)\n",
    "#         except e:\n",
    "#             print(f'failed at {i}: {e}')\n",
    "#         if not i % 300:\n",
    "#             energies_np = np.array(energies)\n",
    "#             np.save(f\"data/clusters/{n}/energies.npy\", energies_np)\n",
    "#     energies_np = np.array(energies)\n",
    "#     np.save(f\"data/clusters/{n}/energies.npy\", energies_np)\n",
    "\n",
    "\n",
    "warnings.filterwarnings('ignore')\n",
    "\n",
    "def compute_energy(frame_idx, traj):\n",
    "    try:\n",
    "        energy, _ = charmm_structure_to_energy(traj.top, traj[frame_idx].xyz)\n",
    "        return frame_idx, energy\n",
    "    except Exception as e:\n",
    "        print(f'Failed at frame {frame_idx}: {e}')\n",
    "        return frame_idx, None\n",
    "\n",
    "def process_cluster(n):\n",
    "    energies = []\n",
    "    traj = md.load(f\"data/clusters/{n}/chignolin_{n}.xtc\", top=topology_file)\n",
    "    traj = traj.atom_slice(traj.top.select('not element H and not name OXT'))\n",
    "    with mp.Pool(processes=mp.cpu_count()) as pool:\n",
    "        results = pool.starmap(compute_energy, [(i, traj) for i in range(len(traj))])\n",
    "    \n",
    "    results.sort()  # Ensure results are in order\n",
    "    energies = [energy for _, energy in results if energy is not None]\n",
    "    \n",
    "    energies_np = np.array(energies)\n",
    "    np.save(f\"data/clusters/{n}/energies.npy\", energies_np)\n",
    "\n",
    "for n in tqdm(range(1)):\n",
    "    process_cluster(n)"
   ]
  },
  {
   "cell_type": "code",
   "execution_count": null,
   "id": "2f70a36e-9e4f-4869-8722-e9e6c879901e",
   "metadata": {},
   "outputs": [],
   "source": [
    "# from rdkit import Chem\n",
    "# from rdkit.Chem import AllChem\n",
    "# from rdkit import rdBase\n",
    "# import warnings\n",
    "%load_ext autoreload \n",
    "%autoreload 2\n",
    "import matplotlib\n",
    "matplotlib.rcParams['font.size'] = 16\n",
    "matplotlib.rc('xtick', labelsize=14) \n",
    "matplotlib.rc('ytick', labelsize=14)\n",
    "from tqdm import tqdm\n",
    "# blocker = 'hi'\n",
    "# del blocker\n",
    "# energies = np.load('data/clusters/0/energies.npy')\n",
    "# plt.hist(energies, 20, label='Unbiased Trajectory')\n",
    "name_dict = {\n",
    "    'GTT': 'WW Domain',\n",
    "    'PRB': 'Protein B',\n",
    "    'chignolin': 'Chignolin',\n",
    "    '2JOF': 'Trp-Cage'\n",
    "}\n",
    "# blocker = rdBase.BlockLogs()\n",
    "np_bins = np.linspace(-4000, 8000, 100)\n",
    "for protein in ['GTT', 'PRB', 'chignolin', '2JOF']:\n",
    "    energies = np.load(f\"energy_files/energies_{protein}_nomodel.npy\")\n",
    "    flowback_energies = np.load(f\"energy_files/energies_{protein}_sc2_ckp-250.npy\")\n",
    "    flowback_euler_energies = np.load(f\"energy_files/energies_{protein}_sc2_ckp-250_euler.npy\")\n",
    "    hist, bins = np.histogram(flowback_euler_energies, np_bins, density=True)\n",
    "    plt.plot(0.5 * (bins[:-1] + bins[1:]), hist, c='red', label='Original Flowback')\n",
    "    # gtt_energies = np.load(f\"energy_files/energies_GTT_gtt_post_ckp-2.npy\")\n",
    "    hist, bins = np.histogram(flowback_energies, np_bins, density=True)\n",
    "    plt.plot(0.5 * (bins[:-1] + bins[1:]), hist, c='blue', label='Flowback + LJ/bonds')\n",
    "    try:\n",
    "        flowback_adj_energies = np.load(f\"energy_files/energies_{protein}_acc_grad_16_post_ckp-1.npy\")\n",
    "        gtt_energies = np.load(f\"energy_files/energies_{protein}_gtt_16_post_ckp-7.npy\")\n",
    "        # flowback_adj_energies = np.load(f\"energy_files/energies_{protein}_nb2_post_ckp-0.npy\")\n",
    "        hist, bins = np.histogram(flowback_adj_energies, np_bins, density=True)\n",
    "        plt.plot(0.5 * (bins[:-1] + bins[1:]), hist, c='green',  label='Flowback Adjoint + LJ/bonds')\n",
    "        hist, bins = np.histogram(gtt_energies, np_bins, density=True)\n",
    "        plt.plot(0.5 * (bins[:-1] + bins[1:]), hist, c='purple',  label='Flowback GTT')\n",
    "    except:\n",
    "        pass\n",
    "    hist, bins = np.histogram(energies, np_bins, density=True)\n",
    "    plt.plot(0.5 * (bins[:-1] + bins[1:]), hist, c='black',  label='Unbiased Distribution')\n",
    "    # hist, bins = np.histogram(gtt_energies, np.linspace(-5000, 25000, 100))\n",
    "    # plt.plot(0.5 * (bins[:-1] + bins[1:]), hist, c='red',  label='GTT-only adjoint')\n",
    "    plt.xlabel('U (kJ/mol)')\n",
    "    plt.ylabel('Frequency')\n",
    "    plt.title(f'{name_dict.get(protein, protein)}')\n",
    "    plt.legend(fontsize=12)\n",
    "    plt.show()\n",
    "\n"
   ]
  },
  {
   "cell_type": "code",
   "execution_count": null,
   "id": "d3967f50-6e82-4a7d-84d4-bca8678ebda1",
   "metadata": {},
   "outputs": [],
   "source": [
    "energies = np.load(f\"energy_files/energies_short_pdbs_nomodel.npy\")\n",
    "with open('a16.out', 'r') as f:\n",
    "    lines = f.readlines()\n",
    "def is_float(element: any) -> bool:\n",
    "    #If you expect None to be passed:\n",
    "    if element is None: \n",
    "        return False\n",
    "    try:\n",
    "        float(element)\n",
    "        return True\n",
    "    except ValueError:\n",
    "        return False\n",
    "\n",
    "energies_early = []\n",
    "energies_late = []\n",
    "for line in lines[:400]:\n",
    "    l = line.strip()\n",
    "    if not l.isdigit() and is_float(l):\n",
    "        energies_early.append(float(l))\n",
    "for line in lines[6000:] :\n",
    "    l = line.strip()\n",
    "    if not l.isdigit() and is_float(l):\n",
    "        energies_late.append(float(l))\n",
    "\n",
    "hist, bins = np.histogram(energies_early, np.linspace(-8000, 14000, 25), density=True)\n",
    "plt.plot(0.5 * (bins[:-1] + bins[1:]), hist, c='blue',  label='Flowback')\n",
    "\n",
    "hist, bins = np.histogram(energies_late, np.linspace(-8000, 14000, 25), density=True)\n",
    "plt.plot(0.5 * (bins[:-1] + bins[1:]), hist, c='green',  label='Flowback Adjoint')\n",
    "\n",
    "hist, bins = np.histogram(energies, np.linspace(-8000, 12000, 25), density=True)\n",
    "plt.plot(0.5 * (bins[:-1] + bins[1:]), hist, c='black',  label='True Energies')\n",
    "\n",
    "plt.legend()"
   ]
  },
  {
   "cell_type": "code",
   "execution_count": null,
   "id": "fd426947-5e75-4f8b-b4bc-d2f2bf3d0cc8",
   "metadata": {},
   "outputs": [],
   "source": [
    "from scipy.stats import gmean\n",
    "min_val = np.min(energies)\n",
    "gmean(energies - min_val + 1) + min_val - 1"
   ]
  },
  {
   "cell_type": "code",
   "execution_count": null,
   "id": "139043da-b93e-45ac-b03e-df689773da00",
   "metadata": {},
   "outputs": [],
   "source": [
    "import nglview as nv\n",
    "view = nv.show_file(f'jobs/post_train_world/temp.pdb')\n",
    "view.clear()\n",
    "view.add_ball_and_stick()\n",
    "view"
   ]
  },
  {
   "cell_type": "code",
   "execution_count": null,
   "id": "e3709f85-1a07-4199-bbec-10de69176830",
   "metadata": {},
   "outputs": [],
   "source": [
    "from rdkit import Chem\n",
    "mol = Chem.MolFromPDBFile(f'jobs/post_train_world/temp.pdb')"
   ]
  },
  {
   "cell_type": "code",
   "execution_count": null,
   "id": "9c925360-1475-4e07-9e0c-9b640a96c327",
   "metadata": {},
   "outputs": [],
   "source": [
    "topology_file = \"/project/andrewferguson/DESRES/DESRES-Trajectory_CLN025-0-protein/system.pdb\"\n",
    "from tqdm import tqdm\n",
    "import mdtraj as md\n",
    "import os\n",
    "os.makedirs(f'data/clusters/all_aa', exist_ok=True)\n",
    "for i in tqdm(range(1)):\n",
    "    traj = md.load(f'data/clusters/{i}/chignolin_{i}.xtc', top=topology_file)\n",
    "    # ca_traj = traj.atom_slice(traj.top.select('name CA'))\n",
    "    traj[0].save_pdb(f'data/clusters/all_aa/{i}_rep.pdb')"
   ]
  },
  {
   "cell_type": "code",
   "execution_count": null,
   "id": "f5668742-e1c3-4d97-85b8-228c8a21d716",
   "metadata": {},
   "outputs": [],
   "source": [
    "%load_ext autoreload\n",
    "%autoreload 2\n",
    "pdb = md.load('data/finetune_chignolin/frame_0.pdb')\n",
    "# pdb = pdb.atom_slice(pdb.top.select('not element H and not name OXT'))"
   ]
  },
  {
   "cell_type": "code",
   "execution_count": null,
   "id": "670d9a82-e0c2-4365-bb42-4b59d8adf669",
   "metadata": {},
   "outputs": [],
   "source": [
    "import pickle\n",
    "pdb.xyz[:, :10], pickle.load(open('train_features/feats_chignolin.pkl', 'rb+'))['xyz'][0][:10]"
   ]
  },
  {
   "cell_type": "code",
   "execution_count": null,
   "id": "48b22b37-be60-45d7-afd5-77d6d9698d2f",
   "metadata": {},
   "outputs": [],
   "source": [
    "features = pickle.load(open('train_features/feats_chignolin.pkl', 'rb+'))"
   ]
  },
  {
   "cell_type": "code",
   "execution_count": null,
   "id": "2aef3ca6-de1c-4d50-b452-717da09a6473",
   "metadata": {},
   "outputs": [],
   "source": []
  },
  {
   "cell_type": "code",
   "execution_count": 7,
   "id": "c7000f70-3876-43c1-9046-91f51ab6d966",
   "metadata": {},
   "outputs": [
    {
     "name": "stdout",
     "output_type": "stream",
     "text": [
      "The autoreload extension is already loaded. To reload it, use:\n",
      "  %reload_ext autoreload\n",
      "0.911864406779661\n"
     ]
    },
    {
     "data": {
      "application/vnd.jupyter.widget-view+json": {
       "model_id": "33c29e36789a4a9eb2433c9655e92786",
       "version_major": 2,
       "version_minor": 0
      },
      "text/plain": [
       "NGLWidget()"
      ]
     },
     "metadata": {},
     "output_type": "display_data"
    }
   ],
   "source": [
    "%load_ext autoreload\n",
    "%autoreload 2\n",
    "import nglview as nv \n",
    "import mdtraj as md\n",
    "from utils import bond_fraction\n",
    "traj = md.load('outputs/one_GTT/n010_post_ckp-2000/frame_0_dt.pdb')[-1]\n",
    "traj2 = md.load('data/one_GTT_clean_AA/frame_0.pdb')\n",
    "traj2.superpose(traj)\n",
    "print(bond_fraction(traj, traj2))\n",
    "traj.center_coordinates()\n",
    "view = nv.show_mdtraj(traj[::-1])\n",
    "view.clear()\n",
    "view.add_ball_and_stick()\n",
    "a = view.add_trajectory(traj2)\n",
    "a.clear_representations()\n",
    "a.add_representation('ball+stick', opacity=0.3)\n",
    "# view.add_unitcell()\n",
    "view"
   ]
  },
  {
   "cell_type": "code",
   "execution_count": null,
   "id": "8c06a7b3-311a-4af6-b7c2-95b9d0831b00",
   "metadata": {},
   "outputs": [],
   "source": [
    "np.load('jobs/hi_charmm_post/losses-epoch-3.npy')"
   ]
  },
  {
   "cell_type": "code",
   "execution_count": null,
   "id": "0171fc80-2169-4603-b499-0a30a23a7f7f",
   "metadata": {},
   "outputs": [],
   "source": [
    " np.load(f\"energy_files/energies_{protein}_acc_grad_post_16_post_ckp-1.npy\")"
   ]
  },
  {
   "cell_type": "code",
   "execution_count": 9,
   "id": "edef826c-650e-4111-8241-af0f91b54d84",
   "metadata": {},
   "outputs": [
    {
     "data": {
      "application/vnd.jupyter.widget-view+json": {
       "model_id": "e318304fcbca412f98bb30fc8b8c3cb9",
       "version_major": 2,
       "version_minor": 0
      },
      "text/plain": [
       "NGLWidget(max_frame=99)"
      ]
     },
     "metadata": {},
     "output_type": "display_data"
    }
   ],
   "source": [
    "traj = md.load('outputs/one_GTT/big_model_ckp-15/frame_0_dt.pdb')\n",
    "# traj2 = md.load('data/one_GTT_clean_AA/frame_0.pdb')\n",
    "# traj2.superpose(traj)\n",
    "# print(bond_fraction(traj, traj2))\n",
    "traj.center_coordinates()\n",
    "view = nv.show_mdtraj(traj[::-1])\n",
    "view.clear()\n",
    "view.add_ball_and_stick()\n",
    "\n",
    "# view.add_unitcell()\n",
    "view"
   ]
  },
  {
   "cell_type": "code",
   "execution_count": null,
   "id": "2780c04c-2955-4e9e-8750-4359f43a5e04",
   "metadata": {},
   "outputs": [],
   "source": []
  }
 ],
 "metadata": {
  "kernelspec": {
   "display_name": "Python 3 (ipykernel)",
   "language": "python",
   "name": "python3"
  },
  "language_info": {
   "codemirror_mode": {
    "name": "ipython",
    "version": 3
   },
   "file_extension": ".py",
   "mimetype": "text/x-python",
   "name": "python",
   "nbconvert_exporter": "python",
   "pygments_lexer": "ipython3",
   "version": "3.11.4"
  }
 },
 "nbformat": 4,
 "nbformat_minor": 5
}
