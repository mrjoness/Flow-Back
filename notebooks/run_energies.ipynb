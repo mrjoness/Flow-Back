{
 "cells": [
  {
   "cell_type": "markdown",
   "metadata": {},
   "source": [
    "# Energy results\n",
    "\n",
    "This notebook runs the `run_energies` script and displays the computed energies."
   ]
  },
  {
   "cell_type": "code",
   "execution_count": null,
   "metadata": {},
   "outputs": [],
   "source": [
    "data = \"DATASET_NAME\"  # Dataset name used during evaluation\n",
    "model = \"MODEL_NAME\"  # Model name\n",
    "checkpoint = \"CHECKPOINT\"  # Checkpoint number\n",
    "noise = \"0.003\"  # CG noise used during evaluation\n"
   ]
  },
  {
   "cell_type": "code",
   "execution_count": null,
   "metadata": {},
   "outputs": [],
   "source": [
    "!PYTHONPATH=.. python ../src/scripts/run_energies.py --data {data} --model {model} --checkpoint {checkpoint} --noise {noise}\n"
   ]
  },
  {
   "cell_type": "code",
   "execution_count": null,
   "metadata": {},
   "outputs": [],
   "source": [
    "import numpy as np\n",
    "from pathlib import Path\n",
    "from src.file_config import FLOWBACK_OUTPUTS\n",
    "\n",
    "base_dir = Path(FLOWBACK_OUTPUTS) / data\n",
    "pattern = f\"{model}_ckp-{checkpoint}*noise-{noise}\"\n",
    "matches = sorted(base_dir.glob(pattern))\n",
    "if not matches:\n",
    "    raise FileNotFoundError(f\"No directory matching {pattern} in {base_dir}\")\n",
    "model_ckp = matches[0].name\n",
    "output_file = Path(FLOWBACK_OUTPUTS) / \"energies\" / f\"energies_{data}_{model_ckp}.npy\"\n",
    "energies = np.load(output_file)\n",
    "print(f\"Loaded {len(energies)} energies\")\n",
    "energies[:10]\n"
   ]
  }
 ],
 "metadata": {
  "kernelspec": {
   "display_name": "Python 3",
   "language": "python",
   "name": "python3"
  },
  "language_info": {
   "name": "python",
   "version": "3.11"
  }
 },
 "nbformat": 4,
 "nbformat_minor": 5
}
