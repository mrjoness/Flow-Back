{
 "cells": [
  {
   "cell_type": "markdown",
   "id": "884b93d4",
   "metadata": {},
   "source": [
    "# Energy results\n",
    "\n",
    "This notebook displays the computed energies after a `run_energies` script."
   ]
  },
  {
   "cell_type": "code",
   "execution_count": 1,
   "id": "847d60f9",
   "metadata": {},
   "outputs": [],
   "source": [
    "data = \"DATASET_PATH\"  # Dataset name used during evaluation\n",
    "model = \"MODEL_NAME\"  # Model name\n",
    "checkpoint = \"CHECKPOINT\"  # Checkpoint number\n",
    "noise = \"NOISE\"  # CG noise used during evaluation\n"
   ]
  },
  {
   "cell_type": "code",
   "execution_count": 7,
   "id": "de478696",
   "metadata": {},
   
     },
     "execution_count": 7,
     "metadata": {},
     "output_type": "execute_result"
    }
   ],
   "source": [
    "import numpy as np\n",
    "from pathlib import Path\n",
    "import sys\n",
    "sys.path.append('../src')\n",
    "from file_config import FLOWBACK_OUTPUTS\n",
    "\n",
    "base_dir = Path(FLOWBACK_OUTPUTS) / data\n",
    "pattern = f\"{model}_ckp-{checkpoint}_noise-{noise}\"\n",
    "matches = sorted(base_dir.glob(pattern))\n",
    "if not matches:\n",
    "    raise FileNotFoundError(f\"No directory matching {pattern} in {base_dir}\")\n",
    "model_ckp = matches[0].name\n",
    "output_file = Path(FLOWBACK_OUTPUTS) / \"energies\" / f\"energies_{data}_{model_ckp}.npy\"\n",
    "energies = np.load(output_file)\n",
    "print(f\"Loaded {len(energies)} energies\")\n",
    "energies[:10]\n"
   ]
  },
  {
   "cell_type": "code",
   "execution_count": null,
   "id": "ce6780ff-4d29-402a-bb20-ccad69da67f0",
   "metadata": {},
   "outputs": [],
   "source": []
  }
 ],
 "metadata": {
  "kernelspec": {
   "display_name": "Python 3",
   "language": "python",
   "name": "python3"
  },
  "language_info": {
   "codemirror_mode": {
    "name": "ipython",
    "version": 3
   },
   "file_extension": ".py",
   "mimetype": "text/x-python",
   "name": "python",
   "nbconvert_exporter": "python",
   "pygments_lexer": "ipython3",
   "version": "3.11.4"
  }
 },
 "nbformat": 4,
 "nbformat_minor": 5
}
