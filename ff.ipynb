{
 "cells": [
  {
   "cell_type": "code",
   "execution_count": 1,
   "id": "2d60d376-6bb9-41c1-890d-0a52199e9521",
   "metadata": {},
   "outputs": [],
   "source": [
    "import pandas as pd\n",
    "import numpy as np"
   ]
  },
  {
   "cell_type": "code",
   "execution_count": 2,
   "id": "81fadd97-e2e3-42ae-9549-28bd6ae29dec",
   "metadata": {},
   "outputs": [
    {
     "data": {
      "text/plain": [
       "(14.007, 0.329632525712, 0.8368)"
      ]
     },
     "execution_count": 2,
     "metadata": {},
     "output_type": "execute_result"
    }
   ],
   "source": [
    "import re\n",
    "\n",
    "def read_rtp_file(file_path):\n",
    "    with open(file_path, 'r') as file:\n",
    "        rtp_data = file.readlines()  # Read the file as a list of lines\n",
    "    return rtp_data\n",
    "def parse_rtp(rtp_data):\n",
    "    rtp_dict = {}\n",
    "    residue_type = None\n",
    "    atom_dict = {}\n",
    "    \n",
    "    # Process each line in the RTP data\n",
    "    for line in rtp_data:\n",
    "        line = line.strip()\n",
    "        \n",
    "        # If a new residue type is found, initialize a new dictionary for it\n",
    "        residue_match = re.match(r\"\\[\\s*[A-Z0-9]*\\s*\\]\", line)\n",
    "        if residue_match:\n",
    "            if residue_type:  # If there is an existing residue, save it before moving on\n",
    "                rtp_dict[residue_type] = atom_dict\n",
    "            \n",
    "            residue_type = residue_match.group(0)[2:-2]\n",
    "            atom_dict = {}\n",
    "            reading_atoms = True  # Start reading atoms\n",
    "        # Process atoms section (inside [ atoms ] block)\n",
    "        elif residue_type and re.match(r\"\\[ atoms \\]\", line):\n",
    "            # Start reading atoms after \"[ atoms ]\" section header\n",
    "            continue\n",
    "        elif re.match(r\"\\[ bonds \\]\", line) or re.match(r\"\\[ impropers \\]\", line) or re.match(r\"\\[ cmap \\]\", line) or re.match(r\"\\[ bondedtypes \\]\", line):\n",
    "            # Stop reading when the \"[ bonds ]\" section is reached\n",
    "            reading_atoms = False\n",
    "            continue\n",
    "        elif residue_type and reading_atoms:\n",
    "            # Parse atom data line\n",
    "            parts = line.split()\n",
    "            if len(parts) >= 2:\n",
    "                atom_name = parts[0]\n",
    "                atom_type = parts[1]\n",
    "                if atom_name.isupper() and atom_type.isupper():\n",
    "                    atom_dict[atom_type] = atom_name\n",
    "\n",
    "    # Don't forget to add the last residue type to the dictionary\n",
    "    if residue_type:\n",
    "        rtp_dict[residue_type] = atom_dict\n",
    "    \n",
    "    return rtp_dict\n",
    "\n",
    "def get_atom_data(residue, atom, rtp_path='forcefield/aminoacids.rtp', nb_path='forcefield/ffnonbonded.csv'):\n",
    "    rtp_lines = read_rtp_file(rtp_path)\n",
    "    rtp_data = parse_rtp(rtp_lines)\n",
    "    nb_data = pd.read_csv(nb_path, sep='\\t', comment=';')\n",
    "    atom_type = rtp_data[residue][atom]\n",
    "    row =  nb_data[nb_data['name'] == atom_type]\n",
    "    return row['mass'].values[0], row['sigma'].values[0], row['epsilon'].values[0]\n",
    "\n",
    "get_atom_data('LYS', 'NH1')\n"
   ]
  },
  {
   "cell_type": "code",
   "execution_count": 2,
   "id": "a8902ff0-cea8-4ad6-b254-145ecff40308",
   "metadata": {},
   "outputs": [
    {
     "data": {
      "application/vnd.jupyter.widget-view+json": {
       "model_id": "50b6042edb2148a7a7ac173616d9c117",
       "version_major": 2,
       "version_minor": 0
      },
      "text/plain": []
     },
     "metadata": {},
     "output_type": "display_data"
    }
   ],
   "source": [
    "import mdtraj as md\n",
    "import nglview as nv"
   ]
  },
  {
   "cell_type": "code",
   "execution_count": 17,
   "id": "55b5fc64-ab80-4da1-803c-98b34cd06fed",
   "metadata": {},
   "outputs": [
    {
     "data": {
      "application/vnd.jupyter.widget-view+json": {
       "model_id": "736a35363b9148468f11abb31d37a4c5",
       "version_major": 2,
       "version_minor": 0
      },
      "text/plain": [
       "NGLWidget(max_frame=99)"
      ]
     },
     "metadata": {},
     "output_type": "display_data"
    }
   ],
   "source": [
    "traj = md.load('outputs/GTT_test/sc2_ckp-250_noise-0.003/frame_0_dt.pdb')\n",
    "traj.center_coordinates()\n",
    "view = nv.show_mdtraj(traj[::-1])\n",
    "view.clear()\n",
    "view.add_ball_and_stick()\n",
    "view"
   ]
  },
  {
   "cell_type": "code",
   "execution_count": 19,
   "id": "8c533294-5576-4746-b0a9-670698421b3d",
   "metadata": {},
   "outputs": [
    {
     "data": {
      "text/plain": [
       "array([-1307.55921457, -1489.0187856 ,   371.67451982, -1779.75834299])"
      ]
     },
     "execution_count": 19,
     "metadata": {},
     "output_type": "execute_result"
    }
   ],
   "source": [
    "import numpy as np\n",
    "np.load('energy_files/energies_GTT_test_sc2_ckp-250.npy')"
   ]
  },
  {
   "cell_type": "code",
   "execution_count": 2,
   "id": "c281c8f5-9cce-423f-8916-6a5c85861c93",
   "metadata": {},
   "outputs": [
    {
     "name": "stdout",
     "output_type": "stream",
     "text": [
      "ERROR: Could not find file /scratch/local/jobs/30187308/ipykernel_278729/1182152713.py\n"
     ]
    },
    {
     "data": {
      "text/plain": [
       "dict_keys(['res', 'atom', 'xyz', 'mask', 'map', 'esm_emb'])"
      ]
     },
     "execution_count": 2,
     "metadata": {},
     "output_type": "execute_result"
    }
   ],
   "source": [
    "from memory_profiler import profile\n",
    "@profile\n",
    "def load_pickle():\n",
    "    import pickle\n",
    "    with open(\"train_features/feats_training.pkl\", \"rb\") as f:\n",
    "        topologies = pickle.load(f)\n",
    "    return topologies\n",
    "\n",
    "data = load_pickle()\n",
    "data.keys()"
   ]
  },
  {
   "cell_type": "code",
   "execution_count": null,
   "id": "e7a4671b-0b67-443d-989d-6aa20c86e189",
   "metadata": {},
   "outputs": [],
   "source": []
  }
 ],
 "metadata": {
  "kernelspec": {
   "display_name": "Python 3",
   "language": "python",
   "name": "python3"
  },
  "language_info": {
   "codemirror_mode": {
    "name": "ipython",
    "version": 3
   },
   "file_extension": ".py",
   "mimetype": "text/x-python",
   "name": "python",
   "nbconvert_exporter": "python",
   "pygments_lexer": "ipython3",
   "version": "3.11.4"
  }
 },
 "nbformat": 4,
 "nbformat_minor": 5
}
